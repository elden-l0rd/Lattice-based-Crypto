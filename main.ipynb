{
 "cells": [
  {
   "cell_type": "code",
   "execution_count": null,
   "metadata": {},
   "outputs": [],
   "source": [
    "!pip install pycryptodome"
   ]
  },
  {
   "cell_type": "code",
   "execution_count": 88,
   "metadata": {},
   "outputs": [],
   "source": [
    "import numpy as np\n",
    "from Crypto.PublicKey import RSA\n",
    "from Crypto.Cipher import PKCS1_OAEP\n",
    "import base64\n",
    "import random"
   ]
  },
  {
   "cell_type": "code",
   "execution_count": 215,
   "metadata": {},
   "outputs": [],
   "source": [
    "# RSA Operations\n",
    "def generate_rsa_keys():\n",
    "    key = RSA.generate(2048)\n",
    "    private_key = key.export_key()\n",
    "    public_key = key.publickey().export_key()\n",
    "    return public_key, private_key\n",
    "\n",
    "def rsa_encrypt(public_key, message):\n",
    "    public_key = RSA.import_key(public_key)\n",
    "    cipher = PKCS1_OAEP.new(public_key)\n",
    "    encrypted_message = cipher.encrypt(message)\n",
    "    return base64.b64encode(encrypted_message)\n",
    "\n",
    "def rsa_decrypt(private_key, encrypted_message):\n",
    "    private_key = RSA.import_key(private_key)\n",
    "    cipher = PKCS1_OAEP.new(private_key)\n",
    "    decrypted_message = cipher.decrypt(base64.b64decode(encrypted_message))\n",
    "    return decrypted_message"
   ]
  },
  {
   "cell_type": "code",
   "execution_count": 216,
   "metadata": {},
   "outputs": [],
   "source": [
    "def gram_schmidt(basis):\n",
    "    orthogonal_basis = np.zeros(basis.shape)\n",
    "    for i in range(len(basis)):\n",
    "        orthogonal_basis[i] = basis[i]\n",
    "        for j in range(i):\n",
    "            denominator = np.dot(orthogonal_basis[j], orthogonal_basis[j])\n",
    "            if denominator != 0:\n",
    "                orthogonal_basis[i] -= np.dot(basis[i], orthogonal_basis[j]) / denominator * orthogonal_basis[j]\n",
    "    return orthogonal_basis\n",
    "\n",
    "def lll_reduction(basis, delta=0.75):\n",
    "    reduced_basis = np.array(basis, dtype=float)\n",
    "    orthogonal_basis = gram_schmidt(reduced_basis)\n",
    "    k = 1\n",
    "    while k < len(basis):\n",
    "        for j in range(k-1, -1, -1):\n",
    "            denominator = np.dot(orthogonal_basis[j], orthogonal_basis[j])\n",
    "            if denominator != 0:\n",
    "                mu = np.dot(reduced_basis[k], orthogonal_basis[j]) / denominator\n",
    "                if abs(mu) > 0.5:\n",
    "                    reduced_basis[k] -= mu * reduced_basis[j]\n",
    "                    orthogonal_basis = gram_schmidt(reduced_basis)\n",
    "\n",
    "        denominator = np.dot(orthogonal_basis[k-1], orthogonal_basis[k-1])\n",
    "        if denominator != 0:\n",
    "            mu_k = np.dot(reduced_basis[k], orthogonal_basis[k-1]) / denominator\n",
    "            if np.linalg.norm(orthogonal_basis[k]) ** 2 >= (delta - mu_k ** 2) * np.linalg.norm(orthogonal_basis[k-1]) ** 2:\n",
    "                k += 1\n",
    "            else:\n",
    "                reduced_basis[[k, k-1]] = reduced_basis[[k-1, k]]\n",
    "                orthogonal_basis = gram_schmidt(reduced_basis)\n",
    "                k = max(k-1, 1)\n",
    "\n",
    "    return reduced_basis"
   ]
  },
  {
   "cell_type": "code",
   "execution_count": 217,
   "metadata": {},
   "outputs": [],
   "source": [
    "# Lattice-Based Operations\n",
    "def create_lattice():\n",
    "    rows, cols = random.randint(3, 3), random.randint(3, 3)\n",
    "    lattice = np.random.randint(0, 1000, (rows, cols))\n",
    "    return lattice\n",
    "\n",
    "def solve_lattice_problem(lattice):\n",
    "    reduced_basis = lll_reduction(lattice)\n",
    "    check_lovasz_condition(reduced_basis)\n",
    "    reduced_basis = sorted(reduced_basis, key=lambda v: np.linalg.norm(v))\n",
    "    shortest_vector = reduced_basis[0]\n",
    "    return shortest_vector\n",
    "\n",
    "def check_lovasz_condition(reduced_basis, delta=0.75):\n",
    "    \"\"\"Check if the Lovász condition is satisfied for the reduced basis.\"\"\"\n",
    "    orthogonal_basis = gram_schmidt(reduced_basis)\n",
    "    for i in range(len(reduced_basis) - 1):\n",
    "        left_side = np.linalg.norm(orthogonal_basis[i + 1])**2\n",
    "        projection = np.dot(reduced_basis[i + 1], orthogonal_basis[i]) / np.dot(orthogonal_basis[i], orthogonal_basis[i])\n",
    "        right_side = (delta - projection**2) * np.linalg.norm(orthogonal_basis[i])**2\n",
    "        if left_side < right_side:\n",
    "            print(f\"Lovász condition NOT satisfied between vectors {i + 1} and {i + 2}.\")\n",
    "            return False\n",
    "    print(\"Lovász condition satisfied for all consecutive vector pairs.\\n\")\n",
    "    return True\n",
    "\n",
    "def lattice_encrypt(lattice, key):\n",
    "    shortest_vector = solve_lattice_problem(lattice)\n",
    "    encrypted_data = shortest_vector + key\n",
    "    return encrypted_data\n",
    "\n",
    "def lattice_decrypt(lattice, encrypted_data):\n",
    "    shortest_vector = solve_lattice_problem(lattice)\n",
    "    decrypted_data = encrypted_data - shortest_vector\n",
    "    return decrypted_data"
   ]
  },
  {
   "cell_type": "code",
   "execution_count": 219,
   "metadata": {},
   "outputs": [
    {
     "name": "stdout",
     "output_type": "stream",
     "text": [
      "Lovász condition satisfied for all consecutive vector pairs.\n",
      "\n",
      "Lovász condition satisfied for all consecutive vector pairs.\n",
      "\n",
      "Lattice Key (Original): [8 8 7]\n",
      "Lattice Key (Decrypted): [8 8 7]\n",
      "Encrypted Data: [ 83.84629853  21.64631802 -71.7463291 ]\n",
      "Decrypted Data: [8. 8. 7.]\n"
     ]
    }
   ],
   "source": [
    "public_key, private_key = generate_rsa_keys()\n",
    "lattice_key = np.random.randint(1, 10, size=(3,))  # Random key for lattice encryption\n",
    "encrypted_key = rsa_encrypt(public_key, lattice_key.tobytes())  # Encrypting lattice key with RSA\n",
    "decrypted_key = rsa_decrypt(private_key, encrypted_key)  # Decrypting with RSA\n",
    "\n",
    "# Convert bytes back to numpy array\n",
    "lattice_key_decrypted = np.frombuffer(decrypted_key, dtype=int)\n",
    "\n",
    "# Lattice operations\n",
    "lattice = create_lattice()\n",
    "encrypted_data = lattice_encrypt(lattice, lattice_key_decrypted)\n",
    "decrypted_data = lattice_decrypt(lattice, encrypted_data)\n",
    "\n",
    "print(\"Lattice Key (Original):\", lattice_key)\n",
    "print(\"Lattice Key (Decrypted):\", lattice_key_decrypted)\n",
    "print(\"Encrypted Data:\", encrypted_data)\n",
    "print(\"Decrypted Data:\", decrypted_data)"
   ]
  },
  {
   "cell_type": "code",
   "execution_count": null,
   "metadata": {},
   "outputs": [],
   "source": []
  }
 ],
 "metadata": {
  "kernelspec": {
   "display_name": "Python 3",
   "language": "python",
   "name": "python3"
  },
  "language_info": {
   "codemirror_mode": {
    "name": "ipython",
    "version": 3
   },
   "file_extension": ".py",
   "mimetype": "text/x-python",
   "name": "python",
   "nbconvert_exporter": "python",
   "pygments_lexer": "ipython3",
   "version": "3.11.4"
  }
 },
 "nbformat": 4,
 "nbformat_minor": 2
}
