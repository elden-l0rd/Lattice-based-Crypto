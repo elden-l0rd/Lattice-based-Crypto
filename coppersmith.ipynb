{
 "cells": [
  {
   "cell_type": "markdown",
   "metadata": {},
   "source": [
    "## Coppersmith attack"
   ]
  },
  {
   "cell_type": "code",
   "execution_count": 1,
   "metadata": {},
   "outputs": [],
   "source": [
    "def format_large_number(num):\n",
    "    abs_num = abs(num)\n",
    "    \n",
    "    if abs_num < 1e6:\n",
    "        return \"{:.2f}\".format(num)\n",
    "    elif abs_num < 1e15:\n",
    "        # Convert to float before formatting\n",
    "        return \"{:.2e}\".format(num.n())\n",
    "    else:\n",
    "        # For very large numbers, show the order of magnitude\n",
    "        if abs_num == 0:\n",
    "            return \"0.00e+00\"\n",
    "        order = int(log(abs_num, 10))\n",
    "        return \"{:.2e} * 10^{}\".format(num.n() / 10**order, order)\n",
    "\n",
    "# display matrix picture with 0 and the approximated value of the matrix elements\n",
    "def print_matrix(basis_matrix, bound):\n",
    "    for i in range(basis_matrix.dimensions()[0]):\n",
    "        a = ('%02d ' % i)\n",
    "        for j in range(basis_matrix.dimensions()[1]):\n",
    "            if j == i:\n",
    "                a += '0' if basis_matrix[i,j] == 0 else format_large_number(basis_matrix[i, j])\n",
    "            if j == basis_matrix.dimensions()[1] - 1:\n",
    "                a += ' '\n",
    "            else:\n",
    "                a += ' '\n",
    "        if basis_matrix[i, j] >= bound:\n",
    "            a += '~'\n",
    "        print(a)"
   ]
  },
  {
   "cell_type": "code",
   "execution_count": 2,
   "metadata": {
    "scrolled": false
   },
   "outputs": [],
   "source": [
    "def coppersmith(pol, N, m, X):\n",
    "    poly_degree = pol.degree()\n",
    "    # m_dim of lattice is dimension of matrix\n",
    "    m_dim = poly_degree*m\n",
    "\n",
    "    if not pol.is_monic():\n",
    "        raise ArithmeticError(\"Polynomial must be monic.\")\n",
    "\n",
    "    w = m_dim\n",
    "    # determinant\n",
    "    detL = RR(N^(poly_degree) * X^(m * (m + 1) / 2))\n",
    "    # Check the Coppersmith condition\n",
    "    lhs = RR(2^(w/4) * detL^(1/w))\n",
    "    rhs = RR(N^m / sqrt(w))\n",
    "\n",
    "    if lhs < rhs:\n",
    "        print(\"The condition satisfied.\\n\")\n",
    "    else:\n",
    "        print(\"The condition not satisfied.\\n\")\n",
    "\n",
    "\n",
    "    # change ring of pol and x\n",
    "    polZ = pol.change_ring(ZZ)\n",
    "    x = polZ.parent().gen()\n",
    "\n",
    "    # compute polynomials \n",
    "    polynomials_g = []\n",
    "    for i in range(m):\n",
    "        for j in range(poly_degree):\n",
    "            polynomials_g.append((x * X)**j * N**(m - i) * polZ(x * X)**i)\n",
    "    print(\"Polynomial: \", polynomials_g)\n",
    "\n",
    "    # construct lattice matrix\n",
    "    matrix = Matrix(ZZ, m_dim)\n",
    "\n",
    "    for i in range(m_dim):\n",
    "        for j in range(i+1):\n",
    "            matrix[i, j] = polynomials_g[i][j]\n",
    "\n",
    "    # display basis matrix\n",
    "    print(\"Only diagonal elements are shown since they form the determinant:\")\n",
    "    print_matrix(matrix, N^m)\n",
    "\n",
    "    # apply LLL algorithm\n",
    "    matrix = matrix.LLL()\n",
    "\n",
    "    # Transform shortest vector in polynomial    \n",
    "    new_polynomial = 0\n",
    "    for i in range(m_dim):\n",
    "        new_polynomial += x**i * matrix[0, i] / X**i\n",
    "\n",
    "    # Factor polynomial\n",
    "    possible_roots = new_polynomial.roots()\n",
    "    print(\"Possible roots:\", possible_roots)\n",
    "\n",
    "    # test roots\n",
    "    filtered_roots = []\n",
    "    for root in possible_roots:\n",
    "        if root[0].is_integer():\n",
    "            result = polZ(ZZ(root[0]))\n",
    "            if gcd(N, result) >= N^(1/m):\n",
    "                filtered_roots.append(ZZ(root[0]))\n",
    "                \n",
    "    # Print intermediate values\n",
    "    print(\"\\n# Intermediate Values\")\n",
    "    print(\"Possible roots:\", possible_roots)\n",
    "    print(\"Filtered roots:\", filtered_roots)\n",
    "\n",
    "    return filtered_roots"
   ]
  },
  {
   "cell_type": "markdown",
   "metadata": {},
   "source": [
    "### Example 1: Large known bits of Ciphertext"
   ]
  },
  {
   "cell_type": "code",
   "execution_count": 3,
   "metadata": {},
   "outputs": [
    {
     "name": "stdout",
     "output_type": "stream",
     "text": [
      "The condition satisfied.\n",
      "\n",
      "Polynomial:  [180134250895969534680170752961072129141412273843745708988621443697691128816768197377296197502043191540968858501401767209021252515558499237673104175663474562118198395050224182448694887992931007367538784441358187642660782552558325602999224430122482679733777275228550958957373383842670996222350100807493581849593270006501731563165996288439262000275515683319057637958154155827213267791036456492438159997772343848396069547496958147658891337029440034928392174431779192152603429122980737558483426218912167054044514087265552413628174912034640062373372419747689370913530597940533923344779569246597206951463752117659618031967367099779213596303123639744994304531607005241231374328228377848555592149606108988348904413617623239773673430402468852635161516176750387628456408737634165562983404880415609191700540306360128682688866840470251167353698043275988981035255707388419770811751464876516968315411922396433377981151014156076003949952927211, 318956065351442615655365893898644895977856367828314065341076135362030958049553997129889207384769033736086749181151330460372928358464412139671090451788315496262762517858956462901910960451065333204545501962144592149044814323878897403842175384512660018045839864583153360955842199332818714557183819612423115475349409150293483475987080498504199388102771968714157778324112027601680609033823725258443037173309895145699198315958381383395515835580642309706921124773707416669204840393240342166712184015057702938650856589763437826833948627442555882574978192441855395609172371912764181295565077140140217557968034574931774138787241*x + 180134250895969534680170752961072129141412273843745708988621443697691128816768197377296197502043191540968858501401767209021252515558499237673104175663474557841696732727862646584367544559681785710515320239904347927844722261097379445580576714483952468721021350888454949502959726475332578804872038772289149172807074632351137431608861339649208508179958846456833331647050311366649428166340854808877824585273467583217479468900650537185044606839407348012288975571647692749929353019596193319518667776203650183968029350183451254471811074279859839850314027348297825332606478280006566195027706189891430143736614686250379735170216739770339132640662746370786125745800967324947068054762251756625806586136479485341676889971510064260118133845775787877989951851126815023792461975690232936504608170877298451015172751643024953422754887767309038908165537992214382683585245976101109668253324813367042536222403356071300799599157055500149153787518781, 564761954589225685790600357175654927630507102952458240533488436763726131946307269500484579650081638366712976866408828439929564233188458969845553726574072994626147918173387818392470889235452670343083910939718492107773926516940195616367841541551573034827861600615124882958291113530607621451878269031617025549171*x^2 + 637912130702885231310731787797289791955712735656628130682152270724061916099107994259778414769538067472173498362302660920745856716928824279342180903576630977381085409175310789285351019577542608405614913798575895213410327606499001109723205043880364378882791725234960190706381285859099570526891207826141792143025007275965805968763624060394003323869215066846767057105081509704609395950457983166599496664737475106929176255403297229157898605222245414983330856721071673274343919298251592492539834391298411953760402750564166228493862473489283893523188180860101953579270143401751946125246522392251652058080126081637154199489822*x + 180134250895969534680170752961072129141412273843745708988621443697691128816768197377296197502043191540968858501401767209021252515558499237673104175663474553565195070405501110720040201126432564053491856038450508213028661969636433288161928998845422257708265426548358940048546069107994161387393976737084716496020980785069402947454050869700009507965995290019287516980385061295739626297796567262211525026105047100727715756291624126437830489627414117288914435045185488730421614089502254892892444675056356103889747766629366278992153647863132385858473124067549089815510333373023203674610911823364826378204128497832892837066033309199348094657156949956717136761184453712358167414700759362165510727107623050438554163966210629408450733688194010093327013652663572308536732809356895054942990555676093998649197588930238871216508070575524250712219447739854002393313463468959324163944984621993826664851646459812755248307274821850698758289436251]\n",
      "Only diagonal elements are shown since they form the determinant:\n",
      "00 1.80e+0 * 10^926   \n",
      "01  3.19e+0 * 10^617  \n",
      "02   5.65e+0 * 10^308 \n",
      "Possible roots: [(13407807929942597099574024998205846127479365820592393377723561443721764030073546976801874298167912992870106033308477605313154609784024907664538836545823230, 2)]\n",
      "\n",
      "# Intermediate Values\n",
      "Possible roots: [(13407807929942597099574024998205846127479365820592393377723561443721764030073546976801874298167912992870106033308477605313154609784024907664538836545823230, 2)]\n",
      "Filtered roots: [13407807929942597099574024998205846127479365820592393377723561443721764030073546976801874298167912992870106033308477605313154609784024907664538836545823230]\n",
      "Value of unknown bits: 1009565180074175121991554459400726972078337718105187539739059\n",
      "Possible roots: [13407807929942597099574024998205846127479365820592393377723561443721764030073546976801874298167912992870106033308477605313154609784024907664538836545823230]\n",
      "\n",
      "Original p:  13407807929942597099574024998205846127479365820592393377723561443721764030073546976801874298166903427690031858186486050853753882811946569946433649006084171 \n",
      "Original q:  42121870893450634577463914985889299119866228583627912396576170307551916037987547771260822964332541009710061289949691591169163556780902047793243036193915001\n",
      "Roots found:\n",
      "root:  13407807929942597099574024998205846127479365820592393377723561443721764030073546976801874298167912992870106033308477605313154609784024907664538836545823230\n"
     ]
    }
   ],
   "source": [
    "# RSA generator\n",
    "k_bits = 1024\n",
    "p = next_prime(2^int(round(k_bits/2)))\n",
    "q = next_prime( round(pi.n()*p) )\n",
    "N = p*q\n",
    "\n",
    "# p_new = known p bits + unknown bits\n",
    "hidden = 200\n",
    "unk_bits = ZZ.random_element(0, 2^hidden-1)\n",
    "p_new = p + unk_bits \n",
    "\n",
    "F.<x> = PolynomialRing(Zmod(N)) \n",
    "pol = x - p_new\n",
    "poly_degree = pol.degree()\n",
    "\n",
    "# set arbitrary\n",
    "epsilon = 1\n",
    "# set poly degree\n",
    "m = 3\n",
    "# upper bound\n",
    "X = ceil(N**((1/poly_degree) - epsilon))\n",
    "\n",
    "valid_roots = coppersmith(pol, N, m, X)\n",
    "\n",
    "\n",
    "print(\"Value of unknown bits:\", p_new - p)\n",
    "print(\"Possible roots:\", valid_roots)\n",
    "print()\n",
    "# Check if the roots correspond to p or q\n",
    "print(\"Original p: \", p, \"\\nOriginal q: \", q)\n",
    "print(\"Roots found:\")\n",
    "for root in valid_roots:\n",
    "    print(\"root: \", root)\n",
    "    if N % root == 0:\n",
    "        if root == p:\n",
    "            print(\"calculated p: \", root)\n",
    "        elif root == q:\n",
    "            print(\"calculated q: \", root)\n",
    "        else:\n",
    "            if p % root == 0:\n",
    "                print(\"p factors are: \", root, \"and\", p/root)\n",
    "            elif q % root == 0:\n",
    "                print(\"q factors are: \", root, \"and\", q/root)"
   ]
  },
  {
   "cell_type": "markdown",
   "metadata": {},
   "source": [
    "### Example 2: Stereotyped message with small e in RSA"
   ]
  },
  {
   "cell_type": "code",
   "execution_count": 6,
   "metadata": {},
   "outputs": [
    {
     "name": "stdout",
     "output_type": "stream",
     "text": [
      "Unknown part of message: assignment\n"
     ]
    }
   ],
   "source": [
    "n = random_prime(2^160)*random_prime(2^160)\n",
    "m = Integer('ourlastcryptographyassignment',36)\n",
    "c = m^3 % n\n",
    "\n",
    "a = Integer('ourlastcryptography0000000000',36)\n",
    "\n",
    "X = Integer('zzzzzzzzzz',36)\n",
    "\n",
    "M = matrix([[X^3, 3*X^2*a, 3*X*a^2, a^3-c],\n",
    "           [0, n*X^2, 0, 0],\n",
    "           [0, 0, n*X, 0],\n",
    "           [0, 0, 0, n]])\n",
    "B = M.LLL()\n",
    "Q = B[0][0]*x^3/X^3 + B[0][1]*x^2/X^2 + B[0][2]*x/X + B[0][3]\n",
    "\n",
    "roots = Q.roots(ring=ZZ)[0][0].str(base=36)\n",
    "print(\"Unknown part of message:\", roots)"
   ]
  },
  {
   "cell_type": "code",
   "execution_count": null,
   "metadata": {},
   "outputs": [],
   "source": []
  }
 ],
 "metadata": {
  "kernelspec": {
   "display_name": "SageMath 9.3",
   "language": "sage",
   "name": "sagemath"
  },
  "language_info": {
   "codemirror_mode": {
    "name": "ipython",
    "version": 3
   },
   "file_extension": ".py",
   "mimetype": "text/x-python",
   "name": "python",
   "nbconvert_exporter": "python",
   "pygments_lexer": "ipython3",
   "version": "3.7.10"
  }
 },
 "nbformat": 4,
 "nbformat_minor": 4
}
